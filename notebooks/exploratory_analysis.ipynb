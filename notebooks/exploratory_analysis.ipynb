{
 "cells": [
  {
   "cell_type": "markdown",
   "id": "aa97e4b3-228d-4bef-a1be-33829b16d414",
   "metadata": {},
   "source": [
    "# Exploratory Data Analysis\n",
    "\n",
    "This notebook shows how to do a fast exploratory analysis on the available data."
   ]
  },
  {
   "cell_type": "markdown",
   "id": "bab6f8cd-a3b1-4a07-a7d7-78020f19b963",
   "metadata": {},
   "source": [
    "## Data acquisition"
   ]
  },
  {
   "cell_type": "markdown",
   "id": "4095c477-7869-4221-83b4-87f38b674584",
   "metadata": {},
   "source": [
    "#### Import libraries"
   ]
  },
  {
   "cell_type": "code",
   "execution_count": null,
   "id": "1ae184c1-cf99-48c8-b7f2-81a63550e293",
   "metadata": {
    "tags": []
   },
   "outputs": [],
   "source": [
    "import os\n",
    "import pandas as pd\n",
    "import matplotlib.pyplot as plt\n",
    "\n",
    "from pathlib import Path"
   ]
  },
  {
   "cell_type": "markdown",
   "id": "629ac0db-78d5-4832-b832-3860d9254a09",
   "metadata": {},
   "source": [
    "#### Load data into pandas and summarize the data"
   ]
  },
  {
   "cell_type": "code",
   "execution_count": null,
   "id": "d1c915a3-cffd-4047-b0db-754e12697e82",
   "metadata": {
    "tags": []
   },
   "outputs": [],
   "source": [
    "# Create a dataframe reading all csv files\n",
    "data_path = Path.home() / 'work/zurich-air-quality-data'\n",
    "data_list={}\n",
    "df=pd.DataFrame()\n",
    "for year in range(1983,2026):\n",
    "    file_name='ugz_ogd_air_d1_'+str(year)+'.csv'\n",
    "    df_year = pd.read_csv(data_path / Path(file_name))\n",
    "    df = pd.concat([df, df_year],ignore_index=True)\n",
    "\n",
    "df.head"
   ]
  },
  {
   "cell_type": "code",
   "execution_count": null,
   "id": "938aa5e7-4e19-4b63-9f58-0a48730bbdf7",
   "metadata": {
    "tags": []
   },
   "outputs": [],
   "source": [
    "# Create the list of locations and parameters\n",
    "locations=df[\"Standort\"].unique()\n",
    "parameters=df[\"Parameter\"].unique()\n",
    "locations\n",
    "parameters"
   ]
  },
  {
   "cell_type": "markdown",
   "id": "0d38a614",
   "metadata": {},
   "source": [
    "##### Transform the data to the right format"
   ]
  },
  {
   "cell_type": "code",
   "execution_count": null,
   "id": "0cdc8625",
   "metadata": {},
   "outputs": [],
   "source": [
    "df[[\"Wert\"]] = df[[\"Wert\"]].apply(pd.to_numeric,errors='coerce')\n",
    "df[[\"Datum\"]] = df[[\"Datum\"]].apply(pd.to_datetime,errors='coerce')\n",
    "\n",
    "df.head()\n"
   ]
  },
  {
   "cell_type": "markdown",
   "id": "c0c329f1-3c4c-404d-ac05-3b81fa7685a0",
   "metadata": {},
   "source": [
    "## Data exploration"
   ]
  },
  {
   "cell_type": "markdown",
   "id": "d4726796-72bc-47c6-b38a-dbde19b67d66",
   "metadata": {
    "tags": []
   },
   "source": [
    "##### General summary for all the keys in the dataset"
   ]
  },
  {
   "cell_type": "code",
   "execution_count": null,
   "id": "e98b35a5-c63f-4d15-a728-ea507e9b5ff2",
   "metadata": {
    "tags": []
   },
   "outputs": [],
   "source": [
    "for key in df.keys():\n",
    "    print(df[key].describe(include='all'))\n"
   ]
  },
  {
   "cell_type": "markdown",
   "id": "a817d54f-d0f8-4b9d-97e5-0f85d7a2d3ad",
   "metadata": {
    "tags": []
   },
   "source": [
    "##### Create a dictionary with all locations and contaminants"
   ]
  },
  {
   "cell_type": "code",
   "execution_count": null,
   "id": "15d3fc84-7689-4fcf-964f-3f71bb556bf2",
   "metadata": {
    "tags": []
   },
   "outputs": [],
   "source": [
    "air_parameter_location={}\n",
    "for location in locations:\n",
    "    air_parameter_location[location]={}\n",
    "    for parameter in parameters:\n",
    "        air_parameter_location[location][parameter]=df.loc[df.Standort.isin([location]) & df.Parameter.isin([parameter]),[\"Datum\",\"Wert\",\"Einheit\"]].reset_index()\n"
   ]
  },
  {
   "cell_type": "markdown",
   "id": "288029f3-4b84-481e-b30b-5b0692dc05b0",
   "metadata": {
    "tags": []
   },
   "source": [
    "##### Plot time series for each location and parameter"
   ]
  },
  {
   "cell_type": "code",
   "execution_count": null,
   "id": "2e64257e-9afa-4fc7-bea5-060810b6296d",
   "metadata": {
    "tags": []
   },
   "outputs": [],
   "source": [
    "for location in locations:\n",
    "    for parameter in parameters:\n",
    "        if len(air_parameter_location[location][parameter])>10:\n",
    "            # Plotting the time series of given dataframe\n",
    "            fig1, ax1 = plt.subplots()\n",
    "            plt.plot(air_parameter_location[location][parameter].Datum, air_parameter_location[location][parameter].Wert)\n",
    "            \n",
    "            # Giving title to the chart using plt.title\n",
    "            plt.title('Concentration of ' + str(parameter) + ' in ' + str(location) +' by Date')\n",
    "            \n",
    "            # rotating the x-axis tick labels at 30degree \n",
    "            # towards right\n",
    "            plt.xticks(rotation=30, ha='right')\n",
    "            \n",
    "            # Providing x and y label to the chart\n",
    "            plt.xlabel('Date')\n",
    "            units=air_parameter_location[location][parameter].Einheit.unique()\n",
    "            plt.ylabel(str(parameter)+' in '+str((units)))\n",
    "    \n",
    "            plt.show()"
   ]
  },
  {
   "cell_type": "code",
   "execution_count": null,
   "id": "7ae673f7-8dea-4b7c-816d-f3b7ceb63b5c",
   "metadata": {},
   "outputs": [],
   "source": []
  },
  {
   "cell_type": "code",
   "execution_count": null,
   "id": "83698390-022c-4902-838f-317f80fab7a1",
   "metadata": {},
   "outputs": [],
   "source": []
  },
  {
   "cell_type": "code",
   "execution_count": null,
   "id": "bedb8ee2-a952-4c07-93ae-96b9fda1f7a5",
   "metadata": {},
   "outputs": [],
   "source": []
  },
  {
   "cell_type": "code",
   "execution_count": null,
   "id": "3f7c4699-6d7e-4c57-8863-2d5147b244ca",
   "metadata": {},
   "outputs": [],
   "source": []
  }
 ],
 "metadata": {
  "kernelspec": {
   "display_name": "Python3",
   "language": "python",
   "name": "python3"
  },
  "language_info": {
   "codemirror_mode": {
    "name": "ipython",
    "version": 3
   },
   "file_extension": ".py",
   "mimetype": "text/x-python",
   "name": "python",
   "nbconvert_exporter": "python",
   "pygments_lexer": "ipython3",
   "version": "3.10.16"
  }
 },
 "nbformat": 4,
 "nbformat_minor": 5
}
